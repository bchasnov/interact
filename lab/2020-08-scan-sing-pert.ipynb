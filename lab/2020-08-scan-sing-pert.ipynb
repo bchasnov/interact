{
 "cells": [
  {
   "cell_type": "code",
   "execution_count": 1,
   "metadata": {},
   "outputs": [
    {
     "name": "stderr",
     "output_type": "stream",
     "text": [
      "/Users/ben/anaconda3/lib/python3.5/site-packages/jax/lib/xla_bridge.py:122: UserWarning: No GPU/TPU found, falling back to CPU.\n",
      "  warnings.warn('No GPU/TPU found, falling back to CPU.')\n"
     ]
    }
   ],
   "source": [
    "import jax\n",
    "import jax.numpy as np\n",
    "from jax import vmap, random, partial\n",
    "\n",
    "def rot(t):\n",
    "    return np.array([[np.cos(t), -np.sin(t)],\n",
    "                     [np.sin(t), np.cos(t)]])\n",
    "def diag(d1, d2):\n",
    "    return np.array([[d1,0],[0,d2]])\n",
    "\n",
    "def rand(key):\n",
    "    k = random.split(key, 2)\n",
    "    theta, = jax.random.uniform(k[0], (1,), minval=0, maxval=np.pi) \n",
    "    d1,d2,b1,b2,c,d1,d2 \\\n",
    "        = jax.random.uniform(k[1], (7,), minval=-1, maxval=1)\n",
    "\n",
    "    A = rot(theta).T @ diag(d1, d2) @ rot(theta)\n",
    "    b = np.array([[b1], [b2]])\n",
    "    d = np.array([[d1,d2]])\n",
    "    c = np.array([[c]])\n",
    "    M = np.vstack([np.hstack([A,b]),\n",
    "                   np.hstack([c,d])])\n",
    "    return M\n",
    "\n",
    "def isStable(M):\n",
    "    return np.all(np.linalg.eigvals(M) < 0)\n",
    "def isNash(M):\n",
    "    return np.all(np.diag(M) < 0)\n",
    "\n",
    "key = jax.random.PRNGKey(0)\n",
    "def sample(key, mode='nonnash_stable', tau=10., round_factor=5):\n",
    "    M = rand(key)\n",
    "    Gamma = np.array([[1., 1., tau]]).T\n",
    "    if 'round' in mode:\n",
    "        M = np.round(M*round_factor)\n",
    "    \n",
    "    stable = isStable(M)\n",
    "    unstable = np.logical_not(stable)\n",
    "    nash = isNash(M)\n",
    "    nonnash = np.logical_not(nash)\n",
    "    stable_fast = isStable(Gamma*M)\n",
    "    unstable_fast = np.logical_not(stable_fast)\n",
    "    \n",
    "    result = True\n",
    "    if 'nonnash' in mode:\n",
    "        result = np.logical_and(result, nonnash)\n",
    "    elif 'nash' in mode:\n",
    "        result = np.logical_and(result, nash)\n",
    "    if 'unstable_slow' in mode:\n",
    "        result = np.logical_and(result, unstable)\n",
    "    elif 'stable_slow' in mode:\n",
    "        result = np.logical_and(result, stable)\n",
    "    if 'unstable_fast' in mode:\n",
    "        result = np.logical_and(result, unstable_fast)\n",
    "    elif 'stable_fast' in mode: \n",
    "        result = np.logical_and(result, stable_fast)\n",
    "    return result, M\n",
    "    \n",
    "def go(mode, seed=0, batch_size = 1024*4):\n",
    "    keys = random.split(key, batch_size)\n",
    "    out = vmap(partial(sample, mode=mode))(keys)\n",
    "    print(\"found {} matrices out of {} that satisfy {}\".format(len(out[1][out[0]]), batch_size, mode))\n",
    "    return out\n",
    "    \n",
    "def print_eigs(M):\n",
    "    A,B,C,D = M[0:2,0:2], M[0:2,2,np.newaxis], M[2:,0:2], M[2,2]\n",
    "    A,B,C,D,M\n",
    "    Acl = A+B@C\n",
    "    Gamma = np.array([[1., 1., 10.]]).T\n",
    "\n",
    "    print(M)\n",
    "    def fmt(M):\n",
    "        eigs = np.linalg.eigvals(M)\n",
    "        desc = \"stable\" if np.all(np.real(eigs) < 0) else \"unstable\"\n",
    "        return desc+\" ({:.2f},{:.2f})\".format(*eigs)\n",
    "    print(\"eig(A)   = \" + fmt(A))\n",
    "    print(\"eig(A+BC)= \" + fmt(A+B@C))\n",
    "    print(\"eig(M)   = \" + fmt(M))\n",
    "    print(\"eig(GM)  = \" + fmt(Gamma*M))\n"
   ]
  },
  {
   "cell_type": "code",
   "execution_count": 2,
   "metadata": {},
   "outputs": [
    {
     "name": "stdout",
     "output_type": "stream",
     "text": [
      "found 627 matrices out of 4096 that satisfy nash,stable_slow,stable_fast,rounded\n",
      "[[-3.  0.  1.]\n",
      " [ 0. -3.  1.]\n",
      " [ 0. -3. -3.]]\n",
      "eig(A)   = stable (-3.00+0.00j,-3.00+0.00j)\n",
      "eig(A+BC)= stable (-3.00+0.00j,-6.00+0.00j)\n",
      "eig(M)   = stable (-3.00+0.00j,-3.00+1.73j)\n",
      "eig(GM)  = stable (-3.00+0.00j,-4.16+0.00j)\n"
     ]
    }
   ],
   "source": [
    "idx, Ms = go('nash,stable_slow,stable_fast,rounded')\n",
    "print_eigs(Ms[idx][0])"
   ]
  },
  {
   "cell_type": "code",
   "execution_count": 3,
   "metadata": {},
   "outputs": [
    {
     "name": "stdout",
     "output_type": "stream",
     "text": [
      "found 9 matrices out of 4096 that satisfy nash,stable_slow,unstable_fast,rounded\n",
      "[[-4. -1. -2.]\n",
      " [-1. -1.  0.]\n",
      " [-3. -4. -1.]]\n",
      "eig(A)   = stable (-4.30+0.00j,-0.70+0.00j)\n",
      "eig(A+BC)= unstable (0.50+2.18j,0.50-2.18j)\n",
      "eig(M)   = stable (-5.80+0.00j,-0.10+0.92j)\n",
      "eig(GM)  = unstable (-15.65+0.00j,0.33+1.76j)\n"
     ]
    }
   ],
   "source": [
    "idx, Ms = go('nash,stable_slow,unstable_fast,rounded')\n",
    "print_eigs(Ms[idx][5])"
   ]
  },
  {
   "cell_type": "code",
   "execution_count": 4,
   "metadata": {},
   "outputs": [
    {
     "name": "stdout",
     "output_type": "stream",
     "text": [
      "found 8 matrices out of 4096 that satisfy nash,unstable_slow,stable_fast,rounded\n",
      "[[-2. -1.  0.]\n",
      " [-1. -3. -2.]\n",
      " [-3. -4. -2.]]\n",
      "eig(A)   = stable (-1.38+0.00j,-3.62+0.00j)\n",
      "eig(A+BC)= unstable (-1.19+0.00j,4.19+0.00j)\n",
      "eig(M)   = unstable (-5.79+0.00j,-1.21+0.00j)\n",
      "eig(GM)  = stable (-23.96+0.00j,-1.04+0.00j)\n"
     ]
    }
   ],
   "source": [
    "idx, Ms = go('nash,unstable_slow,stable_fast,rounded')\n",
    "print_eigs(Ms[idx][2])"
   ]
  },
  {
   "cell_type": "code",
   "execution_count": 5,
   "metadata": {},
   "outputs": [
    {
     "name": "stdout",
     "output_type": "stream",
     "text": [
      "found 338 matrices out of 4096 that satisfy nash,unstable_slow,unstable_fast,round\n",
      "[[-2.  0. -1.]\n",
      " [ 0. -2. -4.]\n",
      " [ 2. -2. -2.]]\n",
      "eig(A)   = stable (-2.00+0.00j,-2.00+0.00j)\n",
      "eig(A+BC)= unstable (-2.00+0.00j,4.00+0.00j)\n",
      "eig(M)   = unstable (-4.45+0.00j,-2.00+0.00j)\n",
      "eig(GM)  = unstable (-22.87+0.00j,-2.00+0.00j)\n"
     ]
    }
   ],
   "source": [
    "idx, Ms = go('nash,unstable_slow,unstable_fast,round')\n",
    "print_eigs(Ms[idx][2])"
   ]
  },
  {
   "cell_type": "code",
   "execution_count": 6,
   "metadata": {},
   "outputs": [
    {
     "name": "stdout",
     "output_type": "stream",
     "text": [
      "found 90 matrices out of 4096 that satisfy nonnash,stable_slow,stable_fast,round\n",
      "[[ 1. -1.  3.]\n",
      " [-1. -3. -2.]\n",
      " [-2.  1. -4.]]\n",
      "eig(A)   = unstable (1.24+0.00j,-3.24+0.00j)\n",
      "eig(A+BC)= stable (-2.55+0.00j,-7.45+0.00j)\n",
      "eig(M)   = stable (-1.00+0.00j,-2.50+0.87j)\n",
      "eig(GM)  = stable (-37.94+0.00j,-0.52+0.00j)\n"
     ]
    }
   ],
   "source": [
    "idx, Ms = go('nonnash,stable_slow,stable_fast,round')\n",
    "print_eigs(Ms[idx][0])"
   ]
  },
  {
   "cell_type": "code",
   "execution_count": 7,
   "metadata": {},
   "outputs": [
    {
     "name": "stdout",
     "output_type": "stream",
     "text": [
      "found 13 matrices out of 4096 that satisfy nonnash,stable_slow,unstable_fast,round\n",
      "[[-1.  2. -1.]\n",
      " [ 2. -2.  3.]\n",
      " [ 0. -3.  1.]]\n",
      "eig(A)   = unstable (0.56+0.00j,-3.56+0.00j)\n",
      "eig(A+BC)= stable (-0.08+0.00j,-11.92+0.00j)\n",
      "eig(M)   = stable (-1.53+0.00j,-0.24+1.79j)\n",
      "eig(GM)  = unstable (-0.78+0.00j,3.89+7.00j)\n"
     ]
    }
   ],
   "source": [
    "idx, Ms = go('nonnash,stable_slow,unstable_fast,round')\n",
    "print_eigs(Ms[idx][0])"
   ]
  },
  {
   "cell_type": "code",
   "execution_count": 8,
   "metadata": {},
   "outputs": [
    {
     "name": "stdout",
     "output_type": "stream",
     "text": [
      "found 81 matrices out of 4096 that satisfy nonnash,unstable_slow,stable_fast,round\n",
      "[[ 2. -1.  3.]\n",
      " [-1. -1.  1.]\n",
      " [-4.  2. -1.]]\n",
      "eig(A)   = unstable (2.30+0.00j,-1.30+0.00j)\n",
      "eig(A+BC)= stable (-6.79+0.00j,-2.21+0.00j)\n",
      "eig(M)   = unstable (0.85+2.85j,0.85-2.85j)\n",
      "eig(GM)  = stable (-3.47+7.79j,-3.47-7.79j)\n"
     ]
    }
   ],
   "source": [
    "idx, Ms = go('nonnash,unstable_slow,stable_fast,round')\n",
    "Ms[idx]\n",
    "print_eigs(Ms[idx][0])"
   ]
  },
  {
   "cell_type": "code",
   "execution_count": 9,
   "metadata": {},
   "outputs": [
    {
     "name": "stdout",
     "output_type": "stream",
     "text": [
      "found 2930 matrices out of 4096 that satisfy nonnash,unstable_slow,unstable_fast,round\n",
      "[[ 1.  2.  0.]\n",
      " [ 2.  4.  1.]\n",
      " [-4.  5.  0.]]\n",
      "eig(A)   = unstable (0.00+0.00j,5.00+0.00j)\n",
      "eig(A+BC)= unstable (1.54+0.00j,8.46+0.00j)\n",
      "eig(M)   = unstable (-1.80+0.00j,1.32+0.00j)\n",
      "eig(GM)  = unstable (-6.27+0.00j,2.31+0.00j)\n"
     ]
    }
   ],
   "source": [
    "idx, Ms = go('nonnash,unstable_slow,unstable_fast,round')\n",
    "print_eigs(Ms[idx][0])"
   ]
  },
  {
   "cell_type": "code",
   "execution_count": null,
   "metadata": {},
   "outputs": [],
   "source": []
  },
  {
   "cell_type": "code",
   "execution_count": null,
   "metadata": {},
   "outputs": [],
   "source": []
  }
 ],
 "metadata": {
  "kernelspec": {
   "display_name": "Python [default]",
   "language": "python",
   "name": "python3"
  },
  "language_info": {
   "codemirror_mode": {
    "name": "ipython",
    "version": 3
   },
   "file_extension": ".py",
   "mimetype": "text/x-python",
   "name": "python",
   "nbconvert_exporter": "python",
   "pygments_lexer": "ipython3",
   "version": "3.5.6"
  }
 },
 "nbformat": 4,
 "nbformat_minor": 2
}
