{
 "cells": [
  {
   "cell_type": "code",
   "execution_count": 1,
   "metadata": {},
   "outputs": [],
   "source": [
    "import sys\n",
    "sys.path.append('..')\n",
    "import numpy as np\n",
    "import jax.numpy as jnp\n",
    "from jax import vmap\n",
    "import benpy as bp\n",
    "%gui qt\n",
    "import pyqtgraph as pg\n",
    "from importlib import reload  \n",
    "\n",
    "bp = reload(bp)\n",
    "from pyqtgraph.Qt import QtCore"
   ]
  },
  {
   "cell_type": "code",
   "execution_count": 8,
   "metadata": {},
   "outputs": [],
   "source": [
    "#try: win.close()\n",
    "#except: pass\n",
    "pg.setConfigOptions(background=(255,255,255))\n",
    "win = pg.GraphicsLayoutWidget()\n",
    "win.resize(800,800)\n",
    "win.move(0,0)\n",
    "win.show()\n",
    "\n",
    "p = win.addPlot()\n",
    "plt = pg.PlotDataItem(symbol='o', symbolPen=None, symbolBrush=(100,255,255))\n",
    "imv = pg.ImageItem()\n",
    "p.addItem(imv)\n",
    "p.addItem(plt)"
   ]
  },
  {
   "cell_type": "code",
   "execution_count": 9,
   "metadata": {},
   "outputs": [],
   "source": [
    "out, shape = bp.grid((-1,1),(-1,1),32,32)\n",
    "out = np.sin(out[:,0]) + np.cos(out[:,1])**2\n",
    "out = out.reshape(shape)\n",
    "imv.setImage(out)\n",
    "plt.setData([0,10], [10,20])"
   ]
  },
  {
   "cell_type": "code",
   "execution_count": null,
   "metadata": {},
   "outputs": [],
   "source": [
    "def dirr(module, name):\n",
    "    for _ in dir(module):\n",
    "        if name in _: print(_)\n",
    "dirr(win, 'move')"
   ]
  },
  {
   "cell_type": "code",
   "execution_count": null,
   "metadata": {},
   "outputs": [],
   "source": []
  }
 ],
 "metadata": {
  "kernelspec": {
   "display_name": "Python [conda env:py37cvxpy]",
   "language": "python",
   "name": "conda-env-py37cvxpy-py"
  },
  "language_info": {
   "codemirror_mode": {
    "name": "ipython",
    "version": 3
   },
   "file_extension": ".py",
   "mimetype": "text/x-python",
   "name": "python",
   "nbconvert_exporter": "python",
   "pygments_lexer": "ipython3",
   "version": "3.7.5"
  }
 },
 "nbformat": 4,
 "nbformat_minor": 2
}
