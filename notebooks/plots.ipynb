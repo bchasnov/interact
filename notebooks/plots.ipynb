{
 "cells": [
  {
   "cell_type": "code",
   "execution_count": 26,
   "metadata": {},
   "outputs": [],
   "source": [
    "import sys\n",
    "sys.path.append('..')\n",
    "import numpy as np\n",
    "import jax.numpy as jnp\n",
    "from jax import vmap\n",
    "import benpy as bp\n",
    "%gui qt\n",
    "import pyqtgraph as pg\n",
    "from importlib import reload  \n",
    "\n",
    "bp = reload(bp)\n",
    "from pyqtgraph.Qt import QtCore, QtGui"
   ]
  },
  {
   "cell_type": "code",
   "execution_count": 144,
   "metadata": {},
   "outputs": [],
   "source": [
    "#try: win.close()\n",
    "#except: pass\n",
    "pg.setConfigOptions(background=(255,255,255))\n",
    "win = pg.GraphicsLayoutWidget()\n",
    "#win = QtGui.QMainWindow()\n",
    "#imv = pg.ImageView()\n",
    "#win.setCentralWidget(imv)\n",
    "win.resize(800,800)\n",
    "win.move(0,0)\n",
    "win.show()\n",
    "\n",
    "colors = [(165,255,70), #(40,238,40), \n",
    "          (0,157,0), \n",
    "          (92,96,88), \n",
    "          (15,15,15),\n",
    "          (92,96,88), \n",
    "          (0,72,127), \n",
    "          (0,26,80)]\n",
    "eps = 0.01\n",
    "half = .35\n",
    "pos = [0,  half, .5-eps, .5, .5+eps, 1.-half, 1.]\n",
    "cmap = pg.ColorMap(color=colors, pos=pos, mode=pg.ColorMap.HSV_POS)\n",
    "lut = cmap.getLookupTable(start=0., stop=1., nPts=512, alpha=1.)\n",
    "\n",
    "p = win.addPlot()\n",
    "plt = pg.PlotDataItem(symbol='o', symbolPen=None, symbolBrush=(100,255,255))\n",
    "imv = pg.ImageItem()\n",
    "#imv.setLookupTable(cmap.getLookupTable())\n",
    "p.addItem(imv)\n",
    "p.addItem(plt)\n",
    "\n",
    "N = 256\n",
    "out, shape = bp.grid((-1,1),(-1,1),N,N)\n",
    "out = np.sin(out[:,0])**2 + np.cos(out[:,1])**2-1.1\n",
    "out = out.reshape(shape)\n",
    "level = np.maximum(np.abs(np.min(out)), np.abs(np.max(out)))\n",
    "imv.setImage(out, levels=[-level, level])\n",
    "\n",
    "imv.setLookupTable(lut)"
   ]
  },
  {
   "cell_type": "code",
   "execution_count": 139,
   "metadata": {},
   "outputs": [],
   "source": []
  },
  {
   "cell_type": "code",
   "execution_count": 57,
   "metadata": {},
   "outputs": [
    {
     "name": "stdout",
     "output_type": "stream",
     "text": [
      "getPixmap\n",
      "mapFromData\n",
      "mapFromDevice\n",
      "mapFromItem\n",
      "mapFromParent\n",
      "mapFromScene\n",
      "mapFromView\n",
      "mapRectFromDevice\n",
      "mapRectFromItem\n",
      "mapRectFromParent\n",
      "mapRectFromScene\n",
      "mapRectFromView\n",
      "mapRectToDevice\n",
      "mapRectToItem\n",
      "mapRectToParent\n",
      "mapRectToScene\n",
      "mapRectToView\n",
      "mapToData\n",
      "mapToDevice\n",
      "mapToItem\n",
      "mapToParent\n",
      "mapToScene\n",
      "mapToView\n"
     ]
    }
   ],
   "source": [
    "def dirr(module, name):\n",
    "    for _ in dir(module):\n",
    "        if name in _: print(_)\n",
    "dirr(imv, 'map')"
   ]
  },
  {
   "cell_type": "code",
   "execution_count": 37,
   "metadata": {},
   "outputs": [
    {
     "data": {
      "text/plain": [
       "array([[-1.5495444 , -1.51295973, -1.47302602, ...,  0.05687919,\n",
       "         0.0968129 ,  0.13339757],\n",
       "       [-1.48931297, -1.4527283 , -1.41279459, ...,  0.11711062,\n",
       "         0.15704433,  0.193629  ],\n",
       "       [-1.42662347, -1.3900388 , -1.35010509, ...,  0.17980012,\n",
       "         0.21973383,  0.2563185 ],\n",
       "       ...,\n",
       "       [-1.42662347, -1.3900388 , -1.35010509, ...,  0.17980012,\n",
       "         0.21973383,  0.2563185 ],\n",
       "       [-1.48931297, -1.4527283 , -1.41279459, ...,  0.11711062,\n",
       "         0.15704433,  0.193629  ],\n",
       "       [-1.5495444 , -1.51295973, -1.47302602, ...,  0.05687919,\n",
       "         0.0968129 ,  0.13339757]])"
      ]
     },
     "execution_count": 37,
     "metadata": {},
     "output_type": "execute_result"
    }
   ],
   "source": [
    "out"
   ]
  },
  {
   "cell_type": "code",
   "execution_count": null,
   "metadata": {},
   "outputs": [],
   "source": []
  }
 ],
 "metadata": {
  "kernelspec": {
   "display_name": "Python [conda env:py37cvxpy]",
   "language": "python",
   "name": "conda-env-py37cvxpy-py"
  },
  "language_info": {
   "codemirror_mode": {
    "name": "ipython",
    "version": 3
   },
   "file_extension": ".py",
   "mimetype": "text/x-python",
   "name": "python",
   "nbconvert_exporter": "python",
   "pygments_lexer": "ipython3",
   "version": "3.7.5"
  }
 },
 "nbformat": 4,
 "nbformat_minor": 2
}
