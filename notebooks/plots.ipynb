{
 "cells": [
  {
   "cell_type": "code",
   "execution_count": 324,
   "metadata": {},
   "outputs": [],
   "source": [
    "import sys\n",
    "sys.path.append('..')\n",
    "import numpy as np\n",
    "import jax.numpy as jnp\n",
    "from jax import vmap\n",
    "import benpy as bp\n",
    "%gui qt\n",
    "import pyqtgraph as pg\n",
    "from importlib import reload  \n",
    "import pyqtgraph.exporters\n",
    "\n",
    "bp = reload(bp)\n",
    "from pyqtgraph.Qt import QtCore, QtGui"
   ]
  },
  {
   "cell_type": "code",
   "execution_count": 355,
   "metadata": {},
   "outputs": [],
   "source": [
    "#try: win.close()\n",
    "#except: pass\n",
    "pg.setConfigOptions(background=(255,255,255))\n",
    "win = pg.GraphicsLayoutWidget()\n",
    "#win = QtGui.QMainWindow()\n",
    "#imv = pg.ImageView()\n",
    "#win.setCentralWidget(imv)\n",
    "win.resize(800,800)\n",
    "win.move(0,0)\n",
    "win.show()\n",
    "\n",
    "eps = 0.002\n",
    "half = 2 \n",
    "pos = [0,  .5-eps, .5, .5+eps, 1.]\n",
    "cmap = pg.ColorMap(color=bp.colors.GREEN_WHITE, pos=pos, mode=pg.ColorMap.HSV_POS)\n",
    "lut = cmap.getLookupTable(start=0., stop=1., nPts=1024, alpha=1.)\n",
    "\n",
    "p = win.addPlot(enableMouse=False)\n",
    "p.setMouseEnabled(False, False)\n",
    "plt = pg.PlotDataItem(symbol='o', symbolPen=None, symbolBrush=(100,255,255))\n",
    "imv = pg.ImageItem()\n",
    "#imv.setLookupTable(cmap.getLookupTable())\n",
    "p.addItem(imv)\n",
    "p.addItem(plt)\n",
    "\n",
    "N = 1024\n",
    "out, shape = bp.grid((-1,1),(-1,1),N,N)\n",
    "out = out[:,1]**3 - out[:,0] #np.sin(out[:,0])**2 + np.cos(out[:,1])**2-1.1\n",
    "out = out.reshape(shape)\n",
    "level = np.maximum(np.abs(np.min(out)), np.abs(np.max(out)))\n",
    "imv.setImage(out, levels=[-level, level])\n",
    "imv.setLookupTable(lut)\n",
    "xlim,ylim = [[-1,1],[0,1]]\n",
    "imv.setRect(QtCore.QRectF(xlim[0],ylim[0],xlim[1]-xlim[0],ylim[1]-ylim[0]))"
   ]
  },
  {
   "cell_type": "code",
   "execution_count": 356,
   "metadata": {},
   "outputs": [],
   "source": [
    "h = imv.height()\n",
    "w = imv.width()\n"
   ]
  },
  {
   "cell_type": "code",
   "execution_count": 358,
   "metadata": {},
   "outputs": [
    {
     "name": "stdout",
     "output_type": "stream",
     "text": [
      "x,y 0.09442777713539252 0.09021660109681451\n",
      "x,y -0.9631633267810044 0.02049650892231414\n",
      "x,y -0.8237007636271938 0.04326225330582445\n",
      "x,y -0.21645751989497686 0.0674508567133042\n",
      "x,y 0.08571136693827919 0.0404165352578858\n",
      "x,y 0.030507435689896 0.5583372199827451\n",
      "x,y 0.06827854654405296 0.9780806320537163\n",
      "x,y 0.9980289675694567 0.9780806320537163\n",
      "x,y 0.9893125573723438 0.983772068149594\n",
      "x,y 0.9893125573723438 0.983772068149594\n",
      "x,y -0.9805961471752307 0.09021660109681451\n"
     ]
    }
   ],
   "source": [
    "def hello(ev):\n",
    "    x,y = ev.pos()\n",
    "    x = (x/w)*(xlim[1]-xlim[0])+xlim[0]\n",
    "    y = (y/h)*(ylim[1]-ylim[0])+ylim[0]\n",
    "    print('x,y',x,y)\n",
    "imv.mouseClickEvent = hello"
   ]
  },
  {
   "cell_type": "code",
   "execution_count": 344,
   "metadata": {},
   "outputs": [
    {
     "name": "stdout",
     "output_type": "stream",
     "text": [
      "mouseClickEvent\n",
      "mouseDoubleClickEvent\n",
      "mouseDragEvent\n",
      "mouseMoveEvent\n",
      "mousePressEvent\n",
      "mouseReleaseEvent\n",
      "x,y 634.7270555753532 233.71154065597\n"
     ]
    }
   ],
   "source": [
    "def dirr(module, name):\n",
    "    for _ in dir(module):\n",
    "        if name in _: print(_)\n",
    "dirr(imv, 'mouse')"
   ]
  },
  {
   "cell_type": "code",
   "execution_count": 310,
   "metadata": {},
   "outputs": [],
   "source": [
    "exporter = pg.exporters.ImageExporter(imv)"
   ]
  },
  {
   "cell_type": "code",
   "execution_count": 312,
   "metadata": {},
   "outputs": [],
   "source": [
    "h = int(exporter.parameters()['height'])\n",
    "w = int(exporter.parameters()['width'])\n",
    "\n",
    "#hack\n",
    "try:\n",
    "    exporter.params.param('height').sigValueChanged.disconnect()\n",
    "    exporter.params.param('width').sigValueChanged.disconnect()\n",
    "except:\n",
    "    pass\n",
    "exporter.params.param('height').setValue(h)\n",
    "exporter.params.param('width').setValue(w)\n",
    "#exporter.export('file.png')"
   ]
  },
  {
   "cell_type": "code",
   "execution_count": 328,
   "metadata": {},
   "outputs": [
    {
     "data": {
      "text/plain": [
       "True"
      ]
     },
     "execution_count": 328,
     "metadata": {},
     "output_type": "execute_result"
    }
   ],
   "source": []
  },
  {
   "cell_type": "code",
   "execution_count": null,
   "metadata": {},
   "outputs": [],
   "source": []
  }
 ],
 "metadata": {
  "kernelspec": {
   "display_name": "Python [conda env:py37cvxpy]",
   "language": "python",
   "name": "conda-env-py37cvxpy-py"
  },
  "language_info": {
   "codemirror_mode": {
    "name": "ipython",
    "version": 3
   },
   "file_extension": ".py",
   "mimetype": "text/x-python",
   "name": "python",
   "nbconvert_exporter": "python",
   "pygments_lexer": "ipython3",
   "version": "3.7.5"
  }
 },
 "nbformat": 4,
 "nbformat_minor": 2
}
